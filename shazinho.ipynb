{
 "cells": [
  {
   "cell_type": "code",
   "execution_count": 1,
   "id": "7bf97b60",
   "metadata": {},
   "outputs": [],
   "source": [
    "import SHA3\n",
    "import numpy as np"
   ]
  },
  {
   "cell_type": "code",
   "execution_count": 2,
   "id": "32f0ca4b",
   "metadata": {},
   "outputs": [],
   "source": [
    "sha = SHA3.SHA3(32)"
   ]
  },
  {
   "cell_type": "code",
   "execution_count": 3,
   "id": "1f3baf84",
   "metadata": {},
   "outputs": [
    {
     "output_type": "stream",
     "name": "stdout",
     "text": [
      "e9ee057fae5c15b651222e187b34554cf32a49ac170424f411777f153607544b\n"
     ]
    }
   ],
   "source": [
    "_, sha_out = sha.calculate_from_file(\"mensagem.txt\") \n",
    "print(sha_out)"
   ]
  },
  {
   "cell_type": "code",
   "execution_count": 22,
   "metadata": {},
   "outputs": [
    {
     "output_type": "error",
     "ename": "TypeError",
     "evalue": "ord() expected string of length 1, but int found",
     "traceback": [
      "\u001b[0;31m---------------------------------------------------------------------------\u001b[0m",
      "\u001b[0;31mTypeError\u001b[0m                                 Traceback (most recent call last)",
      "\u001b[0;32m<ipython-input-22-6712bb86512d>\u001b[0m in \u001b[0;36m<module>\u001b[0;34m\u001b[0m\n\u001b[1;32m      1\u001b[0m \u001b[0;32mfor\u001b[0m \u001b[0mc\u001b[0m \u001b[0;32min\u001b[0m \u001b[0mopen\u001b[0m\u001b[0;34m(\u001b[0m\u001b[0;34m'mensagem.txt'\u001b[0m\u001b[0;34m,\u001b[0m \u001b[0;34m'rb'\u001b[0m\u001b[0;34m)\u001b[0m\u001b[0;34m.\u001b[0m\u001b[0mread\u001b[0m\u001b[0;34m(\u001b[0m\u001b[0;34m)\u001b[0m\u001b[0;34m:\u001b[0m\u001b[0;34m\u001b[0m\u001b[0;34m\u001b[0m\u001b[0m\n\u001b[0;32m----> 2\u001b[0;31m     \u001b[0mprint\u001b[0m\u001b[0;34m(\u001b[0m\u001b[0mord\u001b[0m\u001b[0;34m(\u001b[0m\u001b[0mc\u001b[0m\u001b[0;34m)\u001b[0m\u001b[0;34m)\u001b[0m\u001b[0;34m\u001b[0m\u001b[0;34m\u001b[0m\u001b[0m\n\u001b[0m",
      "\u001b[0;31mTypeError\u001b[0m: ord() expected string of length 1, but int found"
     ]
    }
   ],
   "source": [
    "for c in open('mensagem.txt', 'rb').read():\n",
    "    print(ord(c))"
   ]
  },
  {
   "cell_type": "code",
   "execution_count": 4,
   "id": "68dfc5de",
   "metadata": {},
   "outputs": [
    {
     "output_type": "stream",
     "name": "stdout",
     "text": [
      "[159  47 204 124 144 222   9  13 107 135 205 126 151  24 193 234 108 178\n  17  24 252  45  93 233 249 126  93 182 172  30 156  16]\n"
     ]
    }
   ],
   "source": [
    "b = SHA3.hex_to_bytearray(hex_test)\n",
    "print(b)"
   ]
  },
  {
   "cell_type": "code",
   "execution_count": 5,
   "metadata": {},
   "outputs": [
    {
     "output_type": "stream",
     "name": "stdout",
     "text": [
      "[ 47  26  95 113  89 227  78 161 156 221 199  14 191 155 129 241 166 109\n 180   6  21 215 234 211 204  31  27 149  77 130 163 175]\n"
     ]
    }
   ],
   "source": [
    "print(SHA3.hex_to_bytearray(hex_sha_test))"
   ]
  },
  {
   "cell_type": "code",
   "execution_count": 3,
   "metadata": {},
   "outputs": [],
   "source": [
    "b = SHA3.str_to_bytearray(\"Jorginho123\")"
   ]
  },
  {
   "cell_type": "code",
   "execution_count": 4,
   "id": "6268e813",
   "metadata": {},
   "outputs": [
    {
     "output_type": "execute_result",
     "data": {
      "text/plain": [
       "'a1110f6aad7161b0dd5894d15efd6bbee0b154419ba0f3f6080b04d184fd3150'"
      ]
     },
     "metadata": {},
     "execution_count": 4
    }
   ],
   "source": [
    "SHA3.bytearray_to_hex(sha.calculate(b))"
   ]
  },
  {
   "cell_type": "code",
   "execution_count": 6,
   "id": "3df5909f",
   "metadata": {},
   "outputs": [
    {
     "output_type": "error",
     "ename": "AttributeError",
     "evalue": "'SHA3' object has no attribute 'reset_bytes'",
     "traceback": [
      "\u001b[0;31m---------------------------------------------------------------------------\u001b[0m",
      "\u001b[0;31mAttributeError\u001b[0m                            Traceback (most recent call last)",
      "\u001b[0;32m<ipython-input-6-ca2df89593ab>\u001b[0m in \u001b[0;36m<module>\u001b[0;34m\u001b[0m\n\u001b[0;32m----> 1\u001b[0;31m \u001b[0msha\u001b[0m\u001b[0;34m.\u001b[0m\u001b[0mreset_bytes\u001b[0m\u001b[0;34m\u001b[0m\u001b[0;34m\u001b[0m\u001b[0m\n\u001b[0m",
      "\u001b[0;31mAttributeError\u001b[0m: 'SHA3' object has no attribute 'reset_bytes'"
     ]
    }
   ],
   "source": [
    "sha.reset_bytes"
   ]
  },
  {
   "cell_type": "code",
   "execution_count": null,
   "metadata": {},
   "outputs": [],
   "source": []
  },
  {
   "cell_type": "code",
   "execution_count": null,
   "id": "cedeefcf",
   "metadata": {},
   "outputs": [],
   "source": [
    "sha.bytes"
   ]
  },
  {
   "cell_type": "code",
   "execution_count": null,
   "id": "8bbab45c",
   "metadata": {},
   "outputs": [],
   "source": [
    "def mestre(n):\n",
    "    n[0]= 1000"
   ]
  },
  {
   "cell_type": "code",
   "execution_count": 45,
   "id": "62957f43",
   "metadata": {},
   "outputs": [],
   "source": [
    "a = np.array([1,2,3])"
   ]
  },
  {
   "cell_type": "code",
   "execution_count": 46,
   "id": "392107f8",
   "metadata": {},
   "outputs": [],
   "source": [
    "mestre(a)"
   ]
  },
  {
   "cell_type": "code",
   "execution_count": 47,
   "id": "018d96e6",
   "metadata": {},
   "outputs": [
    {
     "data": {
      "text/plain": [
       "array([1000,    2,    3])"
      ]
     },
     "execution_count": 47,
     "metadata": {},
     "output_type": "execute_result"
    }
   ],
   "source": [
    "a"
   ]
  },
  {
   "cell_type": "code",
   "execution_count": null,
   "id": "61543dec",
   "metadata": {},
   "outputs": [],
   "source": []
  }
 ],
 "metadata": {
  "kernelspec": {
   "name": "python385jvsc74a57bd0d789e46833646338accdf1a82b3a7389f75f7a13d976d8565b60f43e968f298c",
   "display_name": "Python 3.8.5 64-bit ('3.8.5')"
  },
  "language_info": {
   "codemirror_mode": {
    "name": "ipython",
    "version": 3
   },
   "file_extension": ".py",
   "mimetype": "text/x-python",
   "name": "python",
   "nbconvert_exporter": "python",
   "pygments_lexer": "ipython3",
   "version": "3.8.5"
  }
 },
 "nbformat": 4,
 "nbformat_minor": 5
}